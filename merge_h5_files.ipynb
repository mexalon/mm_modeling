{
 "cells": [
  {
   "cell_type": "code",
   "execution_count": null,
   "metadata": {},
   "outputs": [],
   "source": [
    "import h5py\n",
    "import os\n",
    "\n",
    "def merge_h5_datasets(input_files, output_file):\n",
    "  \"\"\"\n",
    "  Склеивает несколько HDF5 файлов с однородными датасетами в один файл.\n",
    "\n",
    "  Args:\n",
    "    input_files (list): Список путей к входным HDF5 файлам.\n",
    "    output_file (str): Путь к выходному HDF5 файлу.\n",
    "\n",
    "  Returns:\n",
    "    None\n",
    "  \"\"\"\n",
    "\n",
    "  # Открыть выходной файл в режиме записи\n",
    "  with h5py.File(output_file, 'w') as h5fw:\n",
    "    # Пройтись по входным файлам\n",
    "    for input_file in input_files:\n",
    "      # Открыть входной файл в режиме чтения\n",
    "      with h5py.File(input_file, 'r') as h5fr:\n",
    "        # Пройтись по датасетам во входном файле\n",
    "        for dataset_name, dataset in h5fr.items():\n",
    "          # Проверить, существует ли уже такой датасет в выходном файле\n",
    "          if dataset_name in h5fw:\n",
    "            # Склеить датасеты\n",
    "            h5fw[dataset_name].append(dataset)\n",
    "          else:\n",
    "            # Скопировать датасет в выходной файл\n",
    "            h5fw.create_dataset(dataset_name, dataset.shape, dtype=dataset.dtype)\n",
    "            h5fw[dataset_name][...] = dataset\n"
   ]
  },
  {
   "cell_type": "code",
   "execution_count": null,
   "metadata": {},
   "outputs": [],
   "source": [
    "# Путь к папке с входными HDF5 файлами\n",
    "input_dir = 'input_files'\n",
    "\n",
    "# Путь к выходному HDF5 файлу\n",
    "output_file = 'merged_file.h5'\n",
    "\n",
    "input_files = [os.path.join(input_dir, filename) for filename in os.listdir(input_dir) if filename.endswith('.h5')]\n",
    "\n",
    "# Склеить файлы\n",
    "merge_h5_datasets(input_files, output_file)"
   ]
  }
 ],
 "metadata": {
  "language_info": {
   "name": "python"
  }
 },
 "nbformat": 4,
 "nbformat_minor": 2
}
