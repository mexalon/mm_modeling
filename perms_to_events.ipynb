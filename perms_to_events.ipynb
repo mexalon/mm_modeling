{
 "cells": [
  {
   "cell_type": "code",
   "execution_count": 93,
   "metadata": {},
   "outputs": [],
   "source": [
    "import numpy as np\n",
    "import h5py\n",
    "import os\n",
    "from tqdm.notebook import tqdm\n",
    "\n",
    "import matplotlib.pyplot as plt\n",
    "\n",
    "from methods.base import BaseConfig\n",
    "# from methods.pore_press_calc_functions import find_pore_pressure"
   ]
  },
  {
   "cell_type": "code",
   "execution_count": 26,
   "metadata": {},
   "outputs": [],
   "source": [
    "# to pore press calc func \n",
    "from pde import PDEBase, PDE, ScalarField, VectorField, MemoryStorage, CartesianGrid\n",
    "from pde.tools.numba import jit"
   ]
  },
  {
   "cell_type": "code",
   "execution_count": 3,
   "metadata": {},
   "outputs": [],
   "source": [
    "\n",
    "\n",
    "    # # divergence(xi_field*gradient(P)) = xi_field*laplace(P) + dot(gradient(xi_field), gradient(P)) <----- for more stable numerical scheme\n",
    "    # if params.eq_non_uniform:\n",
    "    #     eq = PDE({'P': f\"xi_field*laplace(P)  + dot(gradient(xi_field), gradient(P)) + {source_time}*source_field\"}, \n",
    "    #         bc=bc,\n",
    "    #         consts={'source_field': source_field, \n",
    "    #                 'xi_field': xi_field}\n",
    "    #         )\n",
    "    # else:\n",
    "    #     eq = PDE({'P': f\"xi_field*laplace(P) + {source_time}*source_field\"}, \n",
    "    #         bc=bc,\n",
    "    #         consts={'source_field': source_field, \n",
    "    #                 'xi_field': xi_field}\n",
    "    #         )  \n"
   ]
  },
  {
   "cell_type": "code",
   "execution_count": 191,
   "metadata": {},
   "outputs": [],
   "source": [
    "from scipy import interpolate\n",
    "\n",
    "class NU_Pore_Press_Diffusion(PDEBase):\n",
    "    \"\"\"Diffusion equation with spatial dependence\"\"\"\n",
    "    def __init__(self, perm, params):\n",
    "        super().__init__()\n",
    "        self.perm = perm\n",
    "        self.params = params\n",
    "        self.shape = self.perm.shape\n",
    "        self.source_locs = [l['loc'] for l in params.sources]  # list of source locations\n",
    "        self.source_time_interpolators = [self.make_interp_from_q_list(l['Q']) for l in params.sources] # list of source time funcs\n",
    "\n",
    "        # generate grid\n",
    "        x_length, y_length, z_length = params.side_lenght \n",
    "        self.grid = CartesianGrid([[0, x_length], [0, y_length], [0, z_length]], self.shape)  \n",
    "\n",
    "        # boundary condition\n",
    "        self.bc = 'derivative' # zero derivative at all boundarys\n",
    "\n",
    "        # diffusion coefficient scalar field\n",
    "        self.xi_field = self.get_xi_field()\n",
    "\n",
    "        # initial pore pressure\n",
    "        self.pore_ini_field = self.get_pore_ini_field()\n",
    "\n",
    "        # initial zero source field\n",
    "        self.source_field = self.update_source_field(0) # spatial source field, initial state\n",
    "    \n",
    "    def make_interp_from_q_list(self, q_list):\n",
    "        q = np.array([q_list])\n",
    "        t = np.linspace(0, self.params.t_range, q.size)\n",
    "        f = interpolate.interp1d(t, q)\n",
    "        return f\n",
    "\n",
    "    def get_xi(self):\n",
    "        '''\n",
    "        perm - np.aaray with permeability\n",
    "        other is taken from params object\n",
    "\n",
    "    \n",
    "        Function for calculating the diffusion coefficient. Details - Barenblatt p. 19\n",
    "        Dimensionality:\n",
    "        1 MPa = 10^7 g/cm*s^2\n",
    "        1 mD = 10^-11 cm^2\n",
    "        1 cP = 10^-2 g/cm*s\n",
    "        Therefore, the dimensionality of [xi] is:\n",
    "        [xi] = [mD] * [MPa] / [cP] =\n",
    "            = 10^-11 [cm^2] * 10^7 [g/cms^2] / 10^-2 [g/cms] =\n",
    "            = 10^-2 [cm^2/s] =\n",
    "            = 10^-6 [m^2/s]\n",
    "\n",
    "        returns numpy array with distributed xi value    \n",
    "        '''\n",
    "        xi = 10**-6 * self.perm / (self.params.m0 * self.params.mu * (1/self.params.K_ro + 1/self.params.K_m)) # m^2/s\n",
    "        return xi * self.params.time_scale # rescaling to time scale\n",
    "    \n",
    "    def get_xi_field(self):\n",
    "        '''\n",
    "        numpy xi --> scalar field obj xi\n",
    "        '''\n",
    "        xi = self.get_xi() # xi\n",
    "        return ScalarField(self.grid, data=xi)\n",
    "\n",
    "    def update_source_field(self, t):\n",
    "        '''\n",
    "        assembling source points and applying specific rates\n",
    "        '''\n",
    "        source_field = ScalarField(self.grid, data=0) # spatial source field\n",
    "        for ii in range(len(self.source_locs)):\n",
    "            loc = self.source_locs[ii]\n",
    "            q = self.source_time_interpolators[ii](t).item()\n",
    "            dpdt = self.dPdt_Q(q)\n",
    "            source_field.insert(loc , dpdt)  #  one borehole == point source at params.source_loc location\n",
    "            \n",
    "        self.source_field = source_field\n",
    "        return source_field\n",
    "          \n",
    "    \n",
    "    def dPdt_Q(self, Q):\n",
    "        '''\n",
    "        arg  - some float value of Q = dv/dt\n",
    "        dP/dt ~ K_m * ((dv/dt)/V) - pressure change when dv of fluid is pumped in volume V\n",
    "        returns float source value, rescaled to time scale\n",
    "        '''\n",
    "        V = 2000 * 3.1415 * 0.1**2 / 4  # some \"volume\" of source (borehole). m^3\n",
    "        dP = self.params.K_ro * Q / V # pressure change MPa/s\n",
    "        return dP * self.params.time_scale # rescaling to time scale\n",
    "    \n",
    "    def get_pore_ini_field(self):\n",
    "        '''\n",
    "        method to ubtain pore pressure initial state. Just for convenience here.\n",
    "        '''\n",
    "        p0 = np.ones_like(self.perm) * self.params.P0\n",
    "        pore_pressure_field = ScalarField(self.grid, data=p0)\n",
    "        return pore_pressure_field\n",
    "    \n",
    "    # def _make_pde_rhs_numba(self, state):\n",
    "    #     \"\"\" \n",
    "    #     the numba-acceleratin\n",
    "    #     it freezes all values when compiling the function, \n",
    "    #     so the diffusivity cannot be altered without recompiling.\n",
    "    #     Have no idea how to use it with time-dependet parameters.\n",
    "    #     Now it works with initial value of source field \n",
    "\n",
    "    #     just uncomment this method to use\n",
    "    #     \"\"\"\n",
    "    #     # make attributes locally available\n",
    "    #     xi_field = self.xi_field.data\n",
    "    #     source_field = self.get_source_field(0).data\n",
    "\n",
    "    #     # create operators\n",
    "    #     laplace = state.grid.make_operator(\"laplace\", bc=self.bc)\n",
    "    #     gradient = state.grid.make_operator(\"gradient\", bc=self.bc)\n",
    "    #     gradient_xi = state.grid.make_operator(\"gradient\", bc=\"derivative\")\n",
    "    #     dot = VectorField(state.grid).make_dot_operator()\n",
    "\n",
    "    #     @jit\n",
    "    #     def pde_rhs(state_data, t=0):\n",
    "    #         \"\"\" compiled helper function evaluating right hand side \"\"\"\n",
    "    #         lapace_P = laplace(state_data)\n",
    "    #         grad_P = gradient(state_data)\n",
    "    #         grad_xi = gradient_xi(xi_field)\n",
    "    #         dP_dt = xi_field * lapace_P + dot(grad_xi, grad_P) + source_field\n",
    "    #         return dP_dt\n",
    "\n",
    "    #     return pde_rhs\n",
    "\n",
    "\n",
    "    def evolution_rate(self, state, t=0):\n",
    "        ''' all magic here '''\n",
    "        self.update_source_field(t) # very slows down \n",
    "        grad_xi = self.xi_field.gradient(bc=\"derivative\")\n",
    "        lapace_P = state.laplace(bc=self.bc)\n",
    "        grad_P = state.gradient(bc=self.bc)\n",
    "        dP_dt = self.xi_field * lapace_P + grad_xi @ grad_P + self.source_field\n",
    "        return dP_dt\n",
    "   "
   ]
  },
  {
   "cell_type": "code",
   "execution_count": 192,
   "metadata": {},
   "outputs": [],
   "source": [
    "perms_path = 'downscaled_models_02_26_2024__16_06_58.h5'\n",
    "\n",
    "with h5py.File(perms_path, 'r') as f:\n",
    "    perm = f['perm'][2]\n",
    "\n",
    "params = BaseConfig(\n",
    "            sources = [{'loc':(2000, 2000, 2000), 'Q':[1,0,1]},\n",
    "                       {'loc':(1000, 1000, 2000), 'Q':[-0.1,-0.1,0]}],\n",
    "            time_scale=86400, \n",
    "            t_range=300, \n",
    "            dt=0.001)\n",
    "\n",
    "eq = NU_Pore_Press_Diffusion(perm, params)\n",
    "p0 = eq.pore_ini_field\n",
    "\n",
    "storage = MemoryStorage()"
   ]
  },
  {
   "cell_type": "code",
   "execution_count": 193,
   "metadata": {},
   "outputs": [
    {
     "data": {
      "application/vnd.jupyter.widget-view+json": {
       "model_id": "6121df4a7f3a4be6921d355ada466a94",
       "version_major": 2,
       "version_minor": 0
      },
      "text/plain": [
       "  0%|          | 0/300.0 [00:00<?, ?it/s]"
      ]
     },
     "metadata": {},
     "output_type": "display_data"
    },
    {
     "data": {
      "application/vnd.jupyter.widget-view+json": {
       "model_id": "f9d829c7abe04e8ba1642a5919dd2256",
       "version_major": 2,
       "version_minor": 0
      },
      "text/plain": [
       "Output()"
      ]
     },
     "metadata": {},
     "output_type": "display_data"
    }
   ],
   "source": [
    "res = eq.solve(p0, t_range=params.t_range, dt=params.dt, solver='scipy', tracker=['progress', 'plot', storage.tracker(1)])\n",
    "pore_press = storage.data"
   ]
  },
  {
   "cell_type": "code",
   "execution_count": 190,
   "metadata": {},
   "outputs": [
    {
     "data": {
      "text/plain": [
       "[<matplotlib.lines.Line2D at 0x20a7d75ba10>]"
      ]
     },
     "execution_count": 190,
     "metadata": {},
     "output_type": "execute_result"
    },
    {
     "data": {
      "image/png": "[encoded data removed]",
      "text/plain": [
       "<Figure size 640x480 with 1 Axes>"
      ]
     },
     "metadata": {},
     "output_type": "display_data"
    }
   ],
   "source": [
    "pp = pore_press\n",
    "ppp = [p[10,10,10] for p in pp]\n",
    "fig, ax = plt.subplots()\n",
    "ax.plot(ppp)\n",
    "# ax.plot(pp[10][:,5,10])\n",
    "# ax.plot(pp[100][:,5,10])\n",
    "# ax.plot(pp[180][:,5,10])"
   ]
  },
  {
   "cell_type": "markdown",
   "metadata": {},
   "source": [
    "https://py-pde.readthedocs.io/en/latest/manual/advanced_usage.html#expressions\n",
    "\n",
    "https://py-pde.readthedocs.io/en/latest/manual/performance.html#measuring-performance"
   ]
  }
 ],
 "metadata": {
  "kernelspec": {
   "display_name": ".venv",
   "language": "python",
   "name": "python3"
  },
  "language_info": {
   "codemirror_mode": {
    "name": "ipython",
    "version": 3
   },
   "file_extension": ".py",
   "mimetype": "text/x-python",
   "name": "python",
   "nbconvert_exporter": "python",
   "pygments_lexer": "ipython3",
   "version": "3.12.2"
  }
 },
 "nbformat": 4,
 "nbformat_minor": 2
}
