{
 "cells": [
  {
   "cell_type": "code",
   "execution_count": 1,
   "metadata": {},
   "outputs": [],
   "source": [
    "import numpy as np\n",
    "import h5py\n",
    "import os\n",
    "from tqdm.notebook import tqdm\n",
    "\n",
    "from methods.base import BaseConfig\n",
    "# from methods.pore_press_calc_functions import find_pore_pressure"
   ]
  },
  {
   "cell_type": "code",
   "execution_count": 6,
   "metadata": {},
   "outputs": [],
   "source": [
    "# to pore press calc func \n",
    "\n",
    "import pde\n",
    "from pde import DiffusionPDE, ScalarField, UnitGrid, MemoryStorage, movie, PDE, CartesianGrid, VectorField, CylindricalSymGrid\n",
    "\n",
    "def get_xi(perm, params):\n",
    "    '''\n",
    "    perm - np.aaray with permeability\n",
    "    other is taken from params object\n",
    "\n",
    "    Функция для подсчёта коэффициента диффузии. Подробности - Баренблатт стр.19\n",
    "    Размерности:\n",
    "    1 Мпа = 10**7 г/см*с2\n",
    "    1 мД = 10**-11 см2\n",
    "    1 сПз = 10**-2 г/см*с\n",
    "    Итого размерность [xi] = [мД]*[МПа]/[сПз] =\n",
    "                           =  10**-11 [см2] * 10**7 [г/см*с2] / 10**-2 [г/см*с] =\n",
    "                           =  10**-2 [см2/с]\n",
    "                           =  10**-6 [м2/с]\n",
    " \n",
    "    Function for calculating the diffusion coefficient. Details - Barenblatt p. 19\n",
    "    Dimensionality:\n",
    "    1 MPa = 10^7 g/cm*s^2\n",
    "    1 mD = 10^-11 cm^2\n",
    "    1 cP = 10^-2 g/cm*s\n",
    "    Therefore, the dimensionality of [xi] is:\n",
    "    [xi] = [mD] * [MPa] / [cP] =\n",
    "         = 10^-11 [cm^2] * 10^7 [g/cms^2] / 10^-2 [g/cms] =\n",
    "         = 10^-2 [cm^2/s] =\n",
    "         = 10^-6 [m^2/s]\n",
    "    '''\n",
    "    xi = 10**-6 * perm / (params.m0 * params.mu * (1/params.K_ro + 1/params.K_m)) # m^2/s\n",
    "    return xi * params.time_scale # rescaling to time scale\n",
    "\n",
    "\n",
    "def get_source_by_Q(params):\n",
    "    '''\n",
    "    dP/dt ~ K_m * ((dv/dt)/V) - pressure change when dv of fluid is pumped in volume V\n",
    "    '''\n",
    "    V = 2000 * 3.1415 * 0.1**2 / 4  # some \"volume\" of source (borehole). m^3\n",
    "    dP = params.K_ro * params.Q / V # pressure change MPa/s\n",
    "    return dP * params.time_scale # rescaling to time scale\n",
    "\n",
    "def get_p0(perm, params):\n",
    "    '''\n",
    "    initial pressure (without hydristat)\n",
    "    '''\n",
    "    return np.ones_like(perm) * params.P0\n",
    "\n",
    "\n",
    "def find_pore_pressure(perm, params):\n",
    "    '''\n",
    "    pore pressure calc\n",
    "    '''\n",
    "    dx, dy, dz = params.dx_dy_dz\n",
    "    x_length, y_length, z_length = params.side_lenght \n",
    "    grid = CartesianGrid([[0, x_length], [0, y_length], [0, z_length]], perm.shape)  # generate grid\n",
    "\n",
    "    p0 = get_p0(perm, params) # initial pore pressure\n",
    "    pore_pressure_field = pde.ScalarField(grid, data=p0)\n",
    " \n",
    "    source = f\"{get_source_by_Q(params)}\"  # constant source\n",
    "    source_field = ScalarField(grid, data=0)\n",
    "    source_field.insert(params.source_loc, 1)  # one borehole - point source\n",
    "    # source = f\"sin(2*pi*{10}*t)\" # давление на скважине как то меняется или...\n",
    "    \n",
    "    xi = get_xi(perm, params) # xi\n",
    "    xi_field = ScalarField(grid, data=xi)\n",
    "\n",
    "    bc_x = {'derivative': 0}\n",
    "    bc_y = {'derivative': 0}\n",
    "    bc_z = {'derivative': 0}\n",
    "    bc = [bc_x, bc_y, bc_z]\n",
    "\n",
    "    eq = PDE({'u': f\"xi*laplace(u) + {source}*source_field\"}, bc=bc,\n",
    "             consts={'source_field': source_field, 'xi': xi_field})  # уравнение диффузии с источником\n",
    "\n",
    "    storage = MemoryStorage()\n",
    "\n",
    "    '''\n",
    "    Внимание! t_range и dt измеряются относительно заданнго масштаба времени! ТО есть если масштаб был час (3600 сек),\n",
    "    то dt = 1 это тоже 1 час, а t_range = 24*365 это один год.\n",
    "    '''\n",
    "    result = eq.solve(pore_pressure_field, t_range=params.t_range, dt=params.dt, tracker=[\"plot\", storage.tracker(1)])\n",
    "\n",
    "    return storage.data"
   ]
  },
  {
   "cell_type": "code",
   "execution_count": 7,
   "metadata": {},
   "outputs": [
    {
     "data": {
      "application/vnd.jupyter.widget-view+json": {
       "model_id": "757780fd185648838392131d3935f33f",
       "version_major": 2,
       "version_minor": 0
      },
      "text/plain": [
       "Output()"
      ]
     },
     "metadata": {},
     "output_type": "display_data"
    }
   ],
   "source": [
    "perms_path = 'downscaled_models_02_26_2024__16_06_58.h5'\n",
    "\n",
    "with h5py.File(perms_path, 'r') as f:\n",
    "    perm = f['perm'][2]\n",
    "\n",
    "params = BaseConfig(Q = 1, time_scale = 86400, t_range = 30, dt = 0.0001)\n",
    "\n",
    "pore_press = find_pore_pressure(perm, params)\n"
   ]
  },
  {
   "cell_type": "code",
   "execution_count": 7,
   "metadata": {},
   "outputs": [
    {
     "data": {
      "text/plain": [
       "{'side_lenght': (4000, 4000, 4000), 'shape': (20, 20, 20), 'time_scale': 86400, 't_range': 30, 'dt': 0.0001, 'P0': 1e-07, 'Q': 1, 'm0': 0.2, 'mu': 2, 'K_ro': 10000, 'K_m': 10000, 'dx_dy_dz': (200.0, 200.0, 200.0)}"
      ]
     },
     "execution_count": 7,
     "metadata": {},
     "output_type": "execute_result"
    }
   ],
   "source": [
    "params"
   ]
  }
 ],
 "metadata": {
  "kernelspec": {
   "display_name": ".venv",
   "language": "python",
   "name": "python3"
  },
  "language_info": {
   "codemirror_mode": {
    "name": "ipython",
    "version": 3
   },
   "file_extension": ".py",
   "mimetype": "text/x-python",
   "name": "python",
   "nbconvert_exporter": "python",
   "pygments_lexer": "ipython3",
   "version": "3.12.2"
  }
 },
 "nbformat": 4,
 "nbformat_minor": 2
}
