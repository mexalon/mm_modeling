{
 "cells": [
  {
   "cell_type": "code",
   "execution_count": null,
   "metadata": {},
   "outputs": [],
   "source": [
    "import numpy as np\n",
    "import pandas as pd\n",
    "import h5py\n",
    "import os\n",
    "from tqdm.notebook import tqdm\n",
    "\n",
    "from methods.io_things import tar_to_downscaled_models\n",
    "from methods.plotting import plotly_plot\n",
    "from methods.base import BaseConfig\n",
    "\n",
    "# CURR_DIR = os.getcwd()\n",
    "\n",
    "ROCKS = pd.read_excel('rock_properties.xlsx', index_col=0)\n",
    "ROCKS"
   ]
  },
  {
   "cell_type": "code",
   "execution_count": null,
   "metadata": {},
   "outputs": [],
   "source": [
    "params = BaseConfig(shape = (21, 21, 21)) # !!! <- careful\n",
    "\n",
    "PATH_TO_MODELS = 'D:/geological_models/' # path to folder with TAR files like \"DYKE_FOLD_FOLT\" and others\n",
    "# PATH_TO_MODELS = 'del_me/'\n",
    "\n",
    "NMODELS = 30 # of each type. Total number of models woul be = 343 * NMODELS. Put it over 9000 to process all models\n",
    "\n",
    "yield_path = tar_to_downscaled_models(PATH_TO_MODELS, NMODELS, target_shape=params.shape, fname='downscaled_models')"
   ]
  },
  {
   "cell_type": "code",
   "execution_count": null,
   "metadata": {},
   "outputs": [],
   "source": [
    "yield_path = 'downscaled_models_03_05_2024__13_33_23.h5'\n",
    "\n",
    "with h5py.File(yield_path, 'r') as f:\n",
    "    perm = f['perm'][2]\n",
    "    # dens = f['dens'][2]\n",
    "\n",
    "plotly_plot(perm)\n"
   ]
  }
 ],
 "metadata": {
  "kernelspec": {
   "display_name": ".venv",
   "language": "python",
   "name": "python3"
  },
  "language_info": {
   "codemirror_mode": {
    "name": "ipython",
    "version": 3
   },
   "file_extension": ".py",
   "mimetype": "text/x-python",
   "name": "python",
   "nbconvert_exporter": "python",
   "pygments_lexer": "ipython3",
   "version": "3.12.2"
  }
 },
 "nbformat": 4,
 "nbformat_minor": 2
}
