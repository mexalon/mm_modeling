{
 "cells": [
  {
   "cell_type": "code",
   "execution_count": 1,
   "metadata": {},
   "outputs": [],
   "source": [
    "import numpy as np\n",
    "import pandas as pd\n",
    "import h5py\n",
    "import os\n",
    "import re\n",
    "from tqdm.notebook import tqdm\n",
    "from datetime import datetime\n",
    "\n",
    "CURR_DIR = os.getcwd()\n",
    "\n",
    "# perms: [mean(log10(mD)), sigma(log10(mD))]\n",
    "ROCKS = {\n",
    "    'Fels_Dyke_Sill' : {'lithology_class':'dyke', 'genetic_class':'intrusive', 'log_perm_mean_sigma':[1.56, 1.18], 'youngs_module':20, 'poisson_ratio':0.3},\n",
    "    'Maf_Dyke_Sill' : {'lithology_class':'dyke', 'genetic_class':'intrusive', 'log_perm_mean_sigma':[1.56, 1.18], 'youngs_module':20, 'poisson_ratio':0.3},\n",
    "\n",
    "    'Granite' : {'lithology_class':'plug', 'genetic_class':'intrusive', 'log_perm_mean_sigma':[1.56, 1.18], 'youngs_module':20, 'poisson_ratio':0.3},\n",
    "    'Peridotite' : {'lithology_class':'plug', 'genetic_class':'intrusive', 'log_perm_mean_sigma':[1.56, 1.18], 'youngs_module':20, 'poisson_ratio':0.3},\n",
    "    'Porphyry' : {'lithology_class':'plug', 'genetic_class':'intrusive', 'log_perm_mean_sigma':[1.56, 1.18], 'youngs_module':20, 'poisson_ratio':0.3},\n",
    "    'Pyxen_Hbnd' : {'lithology_class':'plug', 'genetic_class':'intrusive', 'log_perm_mean_sigma':[1.56, 1.18], 'youngs_module':20, 'poisson_ratio':0.3},\n",
    "    'Gabbro' : {'lithology_class':'plug', 'genetic_class':'intrusive', 'log_perm_mean_sigma':[1.56, 1.18], 'youngs_module':20, 'poisson_ratio':0.3},\n",
    "    'Diorite' : {'lithology_class':'plug', 'genetic_class':'intrusive', 'log_perm_mean_sigma':[1.56, 1.18], 'youngs_module':20, 'poisson_ratio':0.3},\n",
    "    'Syenite' : {'lithology_class':'plug', 'genetic_class':'intrusive', 'log_perm_mean_sigma':[1.56, 1.18], 'youngs_module':20, 'poisson_ratio':0.3},\n",
    "\n",
    "    'Amphib' : {'lithology_class':'met_strat', 'genetic_class':'metamorphic', 'log_perm_mean_sigma':[2, 1.45], 'youngs_module':20, 'poisson_ratio':0.3}, \n",
    "    'Gneiss' : {'lithology_class':'met_strat', 'genetic_class':'metamorphic', 'log_perm_mean_sigma':[2, 1.45], 'youngs_module':20, 'poisson_ratio':0.3},\n",
    "    'Marble' : {'lithology_class':'met_strat', 'genetic_class':'metamorphic', 'log_perm_mean_sigma':[2, 1.45], 'youngs_module':20, 'poisson_ratio':0.3},\n",
    "    'Meta_Carb' : {'lithology_class':'met_strat', 'genetic_class':'metamorphic', 'log_perm_mean_sigma':[2, 1.45], 'youngs_module':20, 'poisson_ratio':0.3}, \n",
    "    'Meta_Felsic' : {'lithology_class':'met_strat', 'genetic_class':'metamorphic', 'log_perm_mean_sigma':[2, 1.45], 'youngs_module':20, 'poisson_ratio':0.3},\n",
    "    'Meta_Intermed' : {'lithology_class':'met_strat', 'genetic_class':'metamorphic', 'log_perm_mean_sigma':[2, 1.45], 'youngs_module':20, 'poisson_ratio':0.3},    \n",
    "    'Meta_Mafic' : {'lithology_class':'met_strat', 'genetic_class':'metamorphic', 'log_perm_mean_sigma':[2, 1.45], 'youngs_module':20, 'poisson_ratio':0.3}, \n",
    "    'Meta_Sediment' : {'lithology_class':'met_strat', 'genetic_class':'metamorphic', 'log_perm_mean_sigma':[2, 1.45], 'youngs_module':20, 'poisson_ratio':0.3}, \n",
    "    'Meta_Ultramaf' : {'lithology_class':'met_strat', 'genetic_class':'metamorphic', 'log_perm_mean_sigma':[2, 1.45], 'youngs_module':20, 'poisson_ratio':0.3},\n",
    "    'Schist' : {'lithology_class':'met_strat', 'genetic_class':'metamorphic', 'log_perm_mean_sigma':[2, 1.45], 'youngs_module':20, 'poisson_ratio':0.3}, \n",
    "\n",
    "    'Andesite' : {'lithology_class':'met_strat', 'genetic_class':'volcanic', 'log_perm_mean_sigma':[2.77, 0.85], 'youngs_module':20, 'poisson_ratio':0.3},\n",
    "    'Basalt' : {'lithology_class':'met_strat', 'genetic_class':'volcanic', 'log_perm_mean_sigma':[2.77, 0.85], 'youngs_module':20, 'poisson_ratio':0.3},\n",
    "    'Dacite' : {'lithology_class':'met_strat', 'genetic_class':'volcanic', 'log_perm_mean_sigma':[2.77, 0.85], 'youngs_module':20, 'poisson_ratio':0.3},\n",
    "    'Ign_V_Breccia' : {'lithology_class':'met_strat', 'genetic_class':'volcanic', 'log_perm_mean_sigma':[2.77, 0.85], 'youngs_module':20, 'poisson_ratio':0.3},\n",
    "    'Rhyolite' : {'lithology_class':'met_strat', 'genetic_class':'volcanic', 'log_perm_mean_sigma':[2.77, 0.85], 'youngs_module':20, 'poisson_ratio':0.3},\n",
    "    'Tuff_Lapillist' : {'lithology_class':'met_strat', 'genetic_class':'volcanic', 'log_perm_mean_sigma':[2.77, 0.85], 'youngs_module':20, 'poisson_ratio':0.3}, \n",
    "    'V_Breccia' : {'lithology_class':'met_strat', 'genetic_class':'volcanic', 'log_perm_mean_sigma':[2.77, 0.85], 'youngs_module':20, 'poisson_ratio':0.3}, \n",
    "    'V_Conglomerate' : {'lithology_class':'met_strat', 'genetic_class':'volcanic', 'log_perm_mean_sigma':[2.77, 0.85], 'youngs_module':20, 'poisson_ratio':0.3}, \n",
    "    'V_Sandstone' : {'lithology_class':'met_strat', 'genetic_class':'volcanic', 'log_perm_mean_sigma':[2.77, 0.85], 'youngs_module':20, 'poisson_ratio':0.3}, \n",
    "    'V_Siltstone' : {'lithology_class':'met_strat', 'genetic_class':'volcanic', 'log_perm_mean_sigma':[2.77, 0.85], 'youngs_module':20, 'poisson_ratio':0.3},\n",
    "\n",
    "    'Conglomerate' : {'lithology_class':'strat', 'genetic_class':'sedimentary', 'log_perm_mean_sigma':[3.08, 0.75], 'youngs_module':20, 'poisson_ratio':0.3}, \n",
    "    'Limestone' : {'lithology_class':'strat', 'genetic_class':'sedimentary', 'log_perm_mean_sigma':[3.08, 0.75], 'youngs_module':20, 'poisson_ratio':0.3},\n",
    "    'Pelite' : {'lithology_class':'strat', 'genetic_class':'sedimentary', 'log_perm_mean_sigma':[3.08, 0.75], 'youngs_module':20, 'poisson_ratio':0.3}, \n",
    "    'Phyllite' : {'lithology_class':'strat', 'genetic_class':'sedimentary', 'log_perm_mean_sigma':[3.08, 0.75], 'youngs_module':20, 'poisson_ratio':0.3}, \n",
    "    'Sandstone' : {'lithology_class':'strat', 'genetic_class':'sedimentary', 'log_perm_mean_sigma':[3.08, 0.75], 'youngs_module':20, 'poisson_ratio':0.3},\n",
    "    'Greywacke' : {'lithology_class':'strat', 'genetic_class':'sedimentary', 'log_perm_mean_sigma':[3.08, 0.75], 'youngs_module':20, 'poisson_ratio':0.3}, \n",
    "}\n",
    "\n",
    "# perms: [min(log10(mD)), max(log10(mD))]\n",
    "GEN_CLASS_PERM_LOG_MIN_MAX = {\n",
    "    'intrusive' : [-1, 0],\n",
    "    'metamorphic' : [0, 1],\n",
    "    'volcanic' : [1, 2],\n",
    "    'sedimentary' : [2, 3]\n",
    "    }\n",
    "\n",
    "PATH_TO_MODELS = 'D:/geological_models/' # path to folder with TAR files like \"DYKE_FOLD_FOLT\" and others\n",
    "DOWNSCALE_FACTOR = (10, 10, 10) # (200, 200, 200) to (20, 20, 20)"
   ]
  },
  {
   "cell_type": "code",
   "execution_count": 2,
   "metadata": {},
   "outputs": [],
   "source": [
    "# func to data proc\n",
    "from scipy import ndimage\n",
    "from scipy.interpolate import RegularGridInterpolator\n",
    "\n",
    "def downscale(inp, factor):\n",
    "    '''\n",
    "    The running average is calculated for all points in the input array, \n",
    "    so that the final array contains the mean value. \n",
    "    Subsequently, interpolation is performed onto a new grid, with the step specified by a tuple called the factor: (2,2,2) for downscaling by 2 times and so on.\n",
    "    '''\n",
    "    inp_dtype = inp.dtype\n",
    "    avg_inp = ndimage.uniform_filter(inp.astype('float32'), size=factor, mode='nearest') #  it works with float32 only\n",
    "\n",
    "    x, y, z = (np.arange(0,k,1) for k in avg_inp.shape) # old mesh\n",
    "    interp = RegularGridInterpolator((x,y,z), avg_inp) # interpolator object\n",
    "\n",
    "    kx, ky, kz = (np.arange(0,k,f) for k, f in zip(avg_inp.shape, factor)) \n",
    "    m1, m2, m3 = np.meshgrid(kx, ky, kz, indexing='ij') # new mesh\n",
    "    out = interp((m1, m2, m3)) # downscaled array\n",
    "    return out.astype(inp_dtype)"
   ]
  },
  {
   "cell_type": "code",
   "execution_count": 13,
   "metadata": {},
   "outputs": [],
   "source": [
    "# functions to io things\n",
    "\n",
    "import tarfile\n",
    "import gzip\n",
    "import shutil\n",
    "\n",
    "def del_folder(mydir):\n",
    "    try:\n",
    "        shutil.rmtree(mydir)\n",
    "    except OSError as e:\n",
    "        print(\"Error: %s - %s.\" % (e.filename, e.strerror)) \n",
    "\n",
    "def extract_tar_to_temp_folder(tar_path):\n",
    "    with tarfile.open(tar_path) as tar:\n",
    "        for t in tar:\n",
    "            if t.isreg():\n",
    "                if t.name.split('.')[-2] in ['g00', 'g12']:\n",
    "                    tar.extract(t.name)\n",
    "            elif t.isdir():\n",
    "                gz_root_dirname = t.name\n",
    "    \n",
    "    return gz_root_dirname\n",
    "\n",
    "def get_labels_from_g12(g12_path):\n",
    "    with gzip.open(g12_path, 'r') as f:\n",
    "        rock_labels = np.loadtxt(f, skiprows=0).astype('int8')\n",
    "        rock_labels = rock_labels.reshape((200, 200, 200))\n",
    "        rock_labels = np.transpose(rock_labels, (1, 2, 0))\n",
    "    \n",
    "    return rock_labels\n",
    "\n",
    "def get_rocks_from_g00(g00_path):\n",
    "    with gzip.open(g00_path, 'r') as f:\n",
    "        rock_dict = dict()\n",
    "        for line in f:\n",
    "            if \"ROCK DEFINITION\" in str(line):\n",
    "                rock_type = str(line).split(\" \")[2][0:-3]\n",
    "                rock_label = int(str(line).split(\" \")[-1][0:-3])\n",
    "                rock_dict[rock_label] = {'type': rock_type}\n",
    "\n",
    "            if \"Density\" in str(line):\n",
    "                rock_dens = float(str(line).split(\" \")[-1][0:-3])\n",
    "                rock_dict[rock_label]['dens'] = rock_dens\n",
    "    \n",
    "    return rock_dict\n",
    "\n",
    "def random_perm_1(log_mean, log_sigma):\n",
    "    # from logmean and logsigma\n",
    "    return 10**(log_sigma * np.random.randn() + log_mean)\n",
    "\n",
    "def random_perm_2(log_min, log_max):\n",
    "    # from genetic class\n",
    "    return 10**(log_min + np.random.rand()*(log_max - log_min))\n",
    "\n",
    "def add_random_perm_by_rock_type(some_rock_dict):\n",
    "    # add perm to rock dict\n",
    "    for key in some_rock_dict.keys():\n",
    "        rock_type = some_rock_dict[key]['type']\n",
    "        # log_perm_mean, log_perm_sigma = ROCKS[rock_type]['log_perm_mean_sigma']\n",
    "        # perm = random_perm(log_perm_mean, log_perm_sigma)\n",
    "        gen_class = ROCKS[rock_type]['genetic_class']\n",
    "        log_min, log_max = GEN_CLASS_PERM_LOG_MIN_MAX[gen_class]\n",
    "        perm = random_perm_2(log_min, log_max)\n",
    "        some_rock_dict[key]['perm'] = perm\n",
    "     \n",
    "    return some_rock_dict\n",
    "\n",
    "def map_labels_with_some_prop(labels, rock_dict, prop):\n",
    "    #prop is 'perm' or 'dens' - property keys from rock_dict \n",
    "    model = np.zeros_like(labels, dtype='float16') \n",
    "    for key in rock_dict.keys():\n",
    "        model[labels==key] = rock_dict[key][prop]\n",
    "    \n",
    "    return model\n",
    "\n",
    "def write_to_h5dataset(idx, data_to_write, h5dataset):\n",
    "    if idx > h5dataset.shape[0]:\n",
    "        h5dataset.resize(h5dataset.shape[0]+1, axis=0)\n",
    "    h5dataset[idx] = data_to_write"
   ]
  },
  {
   "cell_type": "code",
   "execution_count": 15,
   "metadata": {},
   "outputs": [
    {
     "data": {
      "application/vnd.jupyter.widget-view+json": {
       "model_id": "0fe46bc148974fa9b8bd6b3c87f8ae9e",
       "version_major": 2,
       "version_minor": 0
      },
      "text/plain": [
       "0it [00:00, ?it/s]"
      ]
     },
     "metadata": {},
     "output_type": "display_data"
    },
    {
     "data": {
      "application/vnd.jupyter.widget-view+json": {
       "model_id": "6d426f53766c409aa4227ccce97a20ae",
       "version_major": 2,
       "version_minor": 0
      },
      "text/plain": [
       "0it [00:00, ?it/s]"
      ]
     },
     "metadata": {},
     "output_type": "display_data"
    }
   ],
   "source": [
    "# all together  here\n",
    "tar_list = os.listdir(PATH_TO_MODELS)\n",
    "yield_path = f'{CURR_DIR}/downscaled_models_{datetime.now().strftime(\"%m_%d_%Y__%H_%M_%S\")}.h5'\n",
    "with h5py.File(yield_path, 'w') as targ:\n",
    "    perm_h5_set = targ.create_dataset(\"perm\", (1e6, 20, 20, 20), dtype='float16', maxshape=(None, 20, 20, 20)) # \n",
    "    dens_h5_set = targ.create_dataset(\"dens\", (1e6, 20, 20, 20), dtype='float16', maxshape=(None, 20, 20, 20)) \n",
    "\n",
    "    for ii, tar in tqdm(enumerate(tar_list)):\n",
    "        tar_path = f'{PATH_TO_MODELS}{tar}'\n",
    "        gz_root_dirname = extract_tar_to_temp_folder(tar_path) # exlracting\n",
    "        gz_list = os.listdir(gz_root_dirname)\n",
    "        g00_path_list = [f'{gz_root_dirname}/{gz}' for gz in gz_list if 'g00' in gz] # paths to all g00 files with rock properties\n",
    "        g12_path_list = [f'{gz_root_dirname}/{gz}' for gz in gz_list if 'g12' in gz] # paths to all g12 files with labels\n",
    "        for jj, (g00_path, g12_path) in tqdm(enumerate(zip( g00_path_list, g12_path_list))):\n",
    "            rock_dict = get_rocks_from_g00(g00_path)\n",
    "            labels = get_labels_from_g12(g12_path)\n",
    "            rock_dict = add_random_perm_by_rock_type(rock_dict) # add permeability\n",
    "            perm_model = map_labels_with_some_prop(labels, rock_dict, 'perm') # permrability model mD\n",
    "            dens_model = map_labels_with_some_prop(labels, rock_dict, 'dens') # density model g/cm^3\n",
    "\n",
    "            perm_model = downscale(perm_model, DOWNSCALE_FACTOR) # downscaling\n",
    "            dens_model = downscale(dens_model, DOWNSCALE_FACTOR)\n",
    "\n",
    "            write_to_h5dataset(ii+jj, perm_model, perm_h5_set)\n",
    "            write_to_h5dataset(ii+jj, dens_model, dens_h5_set)\n",
    "           \n",
    "            name = g00_path.split('.')[0] # names of initial files just in case\n",
    "\n",
    "            if jj == 5: # delete me after testing\n",
    "                break\n",
    "                  \n",
    "\n",
    "        del_folder(gz_root_dirname.split('/')[0]) #clear it\n",
    "        break # delete me after testing"
   ]
  },
  {
   "cell_type": "code",
   "execution_count": 52,
   "metadata": {},
   "outputs": [
    {
     "data": {
      "text/plain": [
       "'models_by_code/models/DYKE_DYKE_DYKE'"
      ]
     },
     "execution_count": 52,
     "metadata": {},
     "output_type": "execute_result"
    }
   ],
   "source": [
    "gz_root_dirname"
   ]
  },
  {
   "cell_type": "code",
   "execution_count": 48,
   "metadata": {},
   "outputs": [
    {
     "data": {
      "text/plain": [
       "array([[0., 0., 0.],\n",
       "       [0., 0., 0.],\n",
       "       [0., 0., 0.]], dtype=float16)"
      ]
     },
     "execution_count": 48,
     "metadata": {},
     "output_type": "execute_result"
    }
   ],
   "source": [
    "aa = np.zeros((3,3), dtype='float16')\n",
    "bb = aa.astype('int')\n",
    "bb = aa.astype(aa.dtype)\n",
    "bb"
   ]
  },
  {
   "cell_type": "code",
   "execution_count": null,
   "metadata": {},
   "outputs": [],
   "source": [
    "# и вот наш файл с проницаемостями\n",
    "with h5py.File(perm_path, 'r') as f:\n",
    "    perm = f['/perms'][0]\n",
    "    poisson = f['/poissons'][0]\n",
    "    youngs = f['/youngs'][0]\n",
    "    dens = f['/density'][0]\n",
    "# print(perm)\n",
    "# print(poisson)\n",
    "# print(youngs)\n",
    "# print(dens)"
   ]
  },
  {
   "cell_type": "code",
   "execution_count": 3,
   "metadata": {},
   "outputs": [
    {
     "data": {
      "text/plain": [
       "1234"
      ]
     },
     "execution_count": 3,
     "metadata": {},
     "output_type": "execute_result"
    }
   ],
   "source": [
    "# how to get\n",
    "from methods.io_things import som_foo\n",
    "\n",
    "som_foo()"
   ]
  }
 ],
 "metadata": {
  "kernelspec": {
   "display_name": ".venv",
   "language": "python",
   "name": "python3"
  },
  "language_info": {
   "codemirror_mode": {
    "name": "ipython",
    "version": 3
   },
   "file_extension": ".py",
   "mimetype": "text/x-python",
   "name": "python",
   "nbconvert_exporter": "python",
   "pygments_lexer": "ipython3",
   "version": "3.12.2"
  }
 },
 "nbformat": 4,
 "nbformat_minor": 2
}
