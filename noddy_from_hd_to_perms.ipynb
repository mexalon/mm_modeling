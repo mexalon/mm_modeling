{
 "cells": [
  {
   "cell_type": "code",
   "execution_count": 1,
   "metadata": {},
   "outputs": [],
   "source": [
    "import numpy as np\n",
    "import pandas as pd\n",
    "import h5py\n",
    "import os\n",
    "from tqdm.notebook import tqdm\n",
    "from datetime import datetime\n",
    "\n",
    "CURR_DIR = os.getcwd()\n",
    "HIS_types = ['FAULT', 'SHEAR-ZONE', 'FOLD', 'TILT', 'UNCONFORMITY', 'DYKE', 'PLUG']\n",
    "PATH_TO_MODELS = "
   ]
  },
  {
   "cell_type": "code",
   "execution_count": 3,
   "metadata": {},
   "outputs": [
    {
     "data": {
      "text/plain": [
       "1234"
      ]
     },
     "execution_count": 3,
     "metadata": {},
     "output_type": "execute_result"
    }
   ],
   "source": [
    "# how to get my models\n",
    "from methods.io_things import som_foo\n",
    "\n",
    "som_foo()"
   ]
  },
  {
   "cell_type": "code",
   "execution_count": 6,
   "metadata": {},
   "outputs": [
    {
     "data": {
      "text/plain": [
       "'/home/nikopol/Projects/mm_workflow'"
      ]
     },
     "execution_count": 6,
     "metadata": {},
     "output_type": "execute_result"
    }
   ],
   "source": [
    "import random\n",
    "import gzip\n",
    "from urllib.request import urlopen\n",
    "\n",
    "def display_models(his_filter, display_number):\n",
    "    # download file, ungzip and stuff into numpy array\n",
    "    def get_gz_array(url, skiprows):\n",
    "        my_gzip_stream = urlopen(url)\n",
    "        my_stream = gzip.open(my_gzip_stream, 'r')\n",
    "        return (np.loadtxt(my_stream, skiprows=skiprows))\n",
    "\n",
    "     # !!! Добавила распарсивание g00 файла\n",
    "    def get_gz_array_g00(url, skiprows):\n",
    "        my_gzip_stream = urlopen(url)\n",
    "        my_stream = gzip.open(my_gzip_stream, 'r')\n",
    "        return my_stream\n",
    "\n",
    "    def create_rock_type_dict(my_stream):\n",
    "        rock_types_id = {}\n",
    "        for line in my_stream:\n",
    "            if \"ROCK DEFINITION\" in str(line):\n",
    "                rock_type = str(line).split(\" \")[2][0:-3]\n",
    "                rock_type_number = int(str(line).split(\" \")[-1][0:-3])\n",
    "                if rock_type in rock_types_id:\n",
    "                    rock_types_id[rock_type].append(rock_type_number)\n",
    "                else:\n",
    "                    rock_types_id[rock_type] = [rock_type_number]\n",
    "\n",
    "        return rock_types_id\n",
    "\n",
    "    url = 'https://cloudstor.aarnet.edu.au/plus/s/8ZT6tjOvoLWmLPx/download?path=%2f'\n",
    "    used = []\n",
    "    z = 0\n",
    "    fail = 0\n",
    "    models_list = []\n",
    "    models_names_list = []\n",
    "    models_types_id_list = [] # добавляем идентификацию типов\n",
    "    models = pd.read_csv(f'{CURR_DIR}/model_list/models.csv')\n",
    "\n",
    "    models2 = models[\n",
    "        models['event03'].str.contains(his_filter[0])\n",
    "        & models['event04'].str.contains(his_filter[1])\n",
    "        & models['event05'].str.contains(his_filter[2])]\n",
    "    models2 = models2.reset_index(drop=True)\n",
    "\n",
    "    model_number2 = len(models2)\n",
    "    if (model_number2):\n",
    "        print(\"sampling from\", model_number2, \"models matching filter\", his_filter)\n",
    "    else:\n",
    "        print(\"no models found with filter\", his_filter, \"check list syntax and spelling of events\")\n",
    "        return ()\n",
    "\n",
    "    while z < display_number and fail < 1000:\n",
    "        ran = random.randint(0, model_number2 - 1)\n",
    "        if (ran in used):\n",
    "            continue\n",
    "        else:\n",
    "            used.append(ran)\n",
    "\n",
    "        file_split = models2.iloc[ran]['root'].split('/')\n",
    "        tail = models2.iloc[ran]['event03'] + '_' + models2.iloc[ran]['event04'] + '_' + models2.iloc[ran][\n",
    "            'event05'] + '&files='\n",
    "        root = url + tail + file_split[2]\n",
    "        path = root + '.g12.gz'\n",
    "        mod = get_gz_array(path, skiprows=0)\n",
    "        mod2 = mod.reshape((200, 200, 200))\n",
    "        mod2 = np.transpose(mod2, (1, 2, 0)) # HERE!!!!\n",
    "        # print(ran, file_split[2], 'STRATIGRAPHY TILT', models2.iloc[ran]['event_all'])\n",
    "        models_list.append(mod2)\n",
    "        models_names_list.append(models2.iloc[ran]['event_all']+'_'+str(ran))\n",
    "\n",
    "        path_g00 = root + '.g00.gz'\n",
    "        g00_file = get_gz_array_g00(path_g00, skiprows=0)\n",
    "        rock_types_id = create_rock_type_dict(g00_file)\n",
    "        models_types_id_list.append(rock_types_id)\n",
    "\n",
    "        z = z + 1\n",
    "\n",
    "    return models_list, models_names_list, models_types_id_list"
   ]
  }
 ],
 "metadata": {
  "kernelspec": {
   "display_name": ".venv",
   "language": "python",
   "name": "python3"
  },
  "language_info": {
   "codemirror_mode": {
    "name": "ipython",
    "version": 3
   },
   "file_extension": ".py",
   "mimetype": "text/x-python",
   "name": "python",
   "nbconvert_exporter": "python",
   "pygments_lexer": "ipython3",
   "version": "3.10.12"
  }
 },
 "nbformat": 4,
 "nbformat_minor": 2
}
